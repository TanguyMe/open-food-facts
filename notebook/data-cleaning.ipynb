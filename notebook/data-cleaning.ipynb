{
 "cells": [
  {
   "cell_type": "markdown",
   "metadata": {},
   "source": [
    "# Nettoyage des données\n",
    "\n",
    "## Set up\n",
    "\n",
    "### Mise en place de l'environnement"
   ]
  },
  {
   "cell_type": "code",
   "execution_count": 97,
   "metadata": {},
   "outputs": [],
   "source": [
    "import numpy as np # linear algebra\n",
    "import pandas as pd # data processing, CSV file I/O (e.g. pd.read_csv)\n",
    "import matplotlib.pyplot as plt\n",
    "import seaborn as sns\n",
    "import matplotlib.gridspec as gridspec\n",
    "import missingno as msno \n",
    "import re\n",
    "\n",
    "import sys\n",
    "sys.path.insert(0, \"/home/apprenant/PycharmProjects/open-food-facts\")"
   ]
  },
  {
   "cell_type": "code",
   "execution_count": 98,
   "metadata": {},
   "outputs": [],
   "source": [
    "# On veut pouvoir voir toutes les colonnes et toutes les lignes des dataframes\n",
    "pd.set_option(\"max_rows\", None)\n",
    "pd.set_option(\"max_columns\", None)"
   ]
  },
  {
   "cell_type": "markdown",
   "metadata": {},
   "source": [
    "### Import des données"
   ]
  },
  {
   "cell_type": "code",
   "execution_count": 99,
   "metadata": {},
   "outputs": [],
   "source": [
    "df = pd.read_csv(\"/home/apprenant/Downloads/openfoodfacts.tsv\", sep='\\t', low_memory=False)"
   ]
  },
  {
   "cell_type": "markdown",
   "metadata": {},
   "source": [
    "## Suppression des colonnes inutilisées\n",
    "\n",
    "On va garder uniquement les 27 colonnes qu'on va utiliser comme défini dans la partie analyse."
   ]
  },
  {
   "cell_type": "code",
   "execution_count": 100,
   "metadata": {},
   "outputs": [
    {
     "name": "stdout",
     "output_type": "stream",
     "text": [
      "(356027, 27)\n"
     ]
    }
   ],
   "source": [
    "df = df[['product_name', 'brands', 'countries_en', 'pnns_groups_1',\n",
    "         'ingredients_text', 'allergens', 'traces', 'additives_en',\n",
    "         'ingredients_from_palm_oil_n','nutrition_grade_fr', 'energy_100g',\n",
    "         'saturated-fat_100g', 'sugars_100g', 'fiber_100g', 'salt_100g',\n",
    "         'fat_100g', 'carbohydrates_100g',\n",
    "         'proteins_100g', 'nutrition-score-fr_100g', 'fruits-vegetables-nuts_100g',\n",
    "         'vitamin-d_100g', 'vitamin-c_100g', 'calcium_100g', 'iron_100g', 'image_url',\n",
    "         'generic_name', 'pnns_groups_2']]\n",
    "print(df.shape)"
   ]
  },
  {
   "cell_type": "markdown",
   "metadata": {},
   "source": [
    "## Selection des produits disponibles en France\n",
    "\n",
    "On ne va travailler que sur les produits disponibles en France. On commence par normaliser l'ensemble des cellules contenant le mot \"France\" pour pouvoir les récupérer ensuite. "
   ]
  },
  {
   "cell_type": "code",
   "execution_count": 101,
   "metadata": {},
   "outputs": [
    {
     "name": "stdout",
     "output_type": "stream",
     "text": [
      "(129320, 27)\n"
     ]
    }
   ],
   "source": [
    "# Permet de convertir toutes les chaines de caractères contenant France en France.\n",
    "df[\"countries_en\"] = df[\"countries_en\"].apply(\n",
    "    lambda x: \"France\" if re.match(r\".*(France).*\", str(x), re.IGNORECASE) else x\n",
    ")\n",
    "df = df[df.countries_en == 'France']\n",
    "print(df.shape)"
   ]
  },
  {
   "cell_type": "markdown",
   "metadata": {},
   "source": [
    "On constate qu'on a conservé 129320 lignes sur les 356027 initiales. "
   ]
  },
  {
   "cell_type": "markdown",
   "metadata": {},
   "source": [
    "## product_name\n",
    "\n",
    "On va remplacer les valeurs manquantes de product_name par celles contenues dans generic_name quand c'est possible. Ensuite on supprimera les lignes où product_name est vide qui sont donc inutilisables."
   ]
  },
  {
   "cell_type": "code",
   "execution_count": 102,
   "metadata": {},
   "outputs": [],
   "source": [
    "temp = (df[\"product_name\"].isnull().sum())"
   ]
  },
  {
   "cell_type": "code",
   "execution_count": 103,
   "metadata": {},
   "outputs": [],
   "source": [
    "# On remplace les valeurs manquantes de product_name par generic_name \n",
    "df.loc[df[\"generic_name\"].notna() & df[\"product_name\"].isna(), \"product_name\"] = df[\"generic_name\"]"
   ]
  },
  {
   "cell_type": "code",
   "execution_count": 104,
   "metadata": {},
   "outputs": [
    {
     "data": {
      "text/plain": [
       "32"
      ]
     },
     "execution_count": 104,
     "metadata": {},
     "output_type": "execute_result"
    }
   ],
   "source": [
    "# Calcul du nombre de valeurs modifiées\n",
    "temp - (df[\"product_name\"].isnull().sum())"
   ]
  },
  {
   "cell_type": "code",
   "execution_count": 105,
   "metadata": {},
   "outputs": [
    {
     "name": "stdout",
     "output_type": "stream",
     "text": [
      "(123065, 27)\n"
     ]
    }
   ],
   "source": [
    "# On supprime les lignes où product_name n'est pas renseigné\n",
    "df.dropna(subset=[\"product_name\"], inplace=True)\n",
    "print(df.shape)"
   ]
  },
  {
   "cell_type": "markdown",
   "metadata": {},
   "source": [
    "## Suppression des doublons\n",
    "\n",
    "On va supprimer les lignes en doubles pour n'en garder qu'une seule. "
   ]
  },
  {
   "cell_type": "code",
   "execution_count": 106,
   "metadata": {},
   "outputs": [
    {
     "name": "stdout",
     "output_type": "stream",
     "text": [
      "(122505, 27)\n"
     ]
    }
   ],
   "source": [
    "df.drop_duplicates(inplace=True)\n",
    "print(df.shape)"
   ]
  },
  {
   "cell_type": "markdown",
   "metadata": {},
   "source": [
    "## pnns_groups_1\n",
    "\n",
    "On va remplacer les valeurs manquantes de pnns_groups_1 par celles contenues dans pnns_groups_2 pour commencer."
   ]
  },
  {
   "cell_type": "code",
   "execution_count": 107,
   "metadata": {},
   "outputs": [],
   "source": [
    "temp=(df[\"pnns_groups_1\"].isnull().sum())"
   ]
  },
  {
   "cell_type": "code",
   "execution_count": 108,
   "metadata": {},
   "outputs": [],
   "source": [
    "df.loc[df[\"pnns_groups_2\"].notna() & df[\"pnns_groups_1\"].isna(), \"pnns_groups_1\"] = df[\"pnns_groups_2\"]"
   ]
  },
  {
   "cell_type": "code",
   "execution_count": 109,
   "metadata": {},
   "outputs": [
    {
     "data": {
      "text/plain": [
       "2623"
      ]
     },
     "execution_count": 109,
     "metadata": {},
     "output_type": "execute_result"
    }
   ],
   "source": [
    "# Calcul du nombre de valeurs modifiées\n",
    "temp-df[\"pnns_groups_1\"].isnull().sum()"
   ]
  },
  {
   "cell_type": "markdown",
   "metadata": {},
   "source": [
    "## Gestion des valeurs nutritionnelles numériques\n",
    "\n",
    "### Suppression des lignes inexploitables\n",
    "\n",
    "On va supprimer les lignes dont il manque le nutriscore et les éléments pour le calculer. "
   ]
  },
  {
   "cell_type": "code",
   "execution_count": 110,
   "metadata": {},
   "outputs": [
    {
     "name": "stdout",
     "output_type": "stream",
     "text": [
      "(97015, 27)\n"
     ]
    }
   ],
   "source": [
    "# On supprime les lignes où le nutriscore et les valeurs nutritionnelles ne sont pas renseignées\n",
    "df.dropna(subset=['nutrition-score-fr_100g','saturated-fat_100g', 'sugars_100g', 'fiber_100g',\n",
    "          'salt_100g', 'fat_100g',\n",
    "          'carbohydrates_100g', 'proteins_100g',\n",
    "          'fruits-vegetables-nuts_100g'], how='all', inplace=True)\n",
    "print(df.shape)"
   ]
  },
  {
   "cell_type": "markdown",
   "metadata": {},
   "source": [
    "### Remplacement des valeurs nutritionnelles manquantes\n",
    "\n",
    "On va remplacer les valeurs nutritionnelles manquantes par 0."
   ]
  },
  {
   "cell_type": "code",
   "execution_count": 111,
   "metadata": {},
   "outputs": [],
   "source": [
    "# On liste les colonnes dont on veut remplacer les valeurs manquantes par 0\n",
    "cols = ['ingredients_from_palm_oil_n',\n",
    "         'saturated-fat_100g', 'sugars_100g', 'fiber_100g', 'salt_100g',\n",
    "         'fat_100g', 'carbohydrates_100g',\n",
    "         'proteins_100g', 'fruits-vegetables-nuts_100g',\n",
    "         'vitamin-d_100g', 'vitamin-c_100g', 'calcium_100g',\n",
    "        'iron_100g', 'energy_100g']\n",
    "# On fait une liste remplie de 0 de même longueur que le nombre de colonnes à modifier\n",
    "vals = np.zeros(len(cols))\n",
    "# On combine ces 2 listes dans un dictionnaire pour pouvoir l'entrer en paramètre de fillna\n",
    "dico = dict(zip(cols, vals))\n",
    "# On remplace les valeurs manquantes par 0\n",
    "df.fillna(dico, inplace=True)"
   ]
  },
  {
   "cell_type": "markdown",
   "metadata": {},
   "source": [
    "On va calculer les colonnes manquantes pour l'énergie à partir des autres valeurs nutritionnelles. "
   ]
  },
  {
   "cell_type": "code",
   "execution_count": 112,
   "metadata": {},
   "outputs": [],
   "source": [
    "#  E KJ = (37 x lipides) + (17 x protéines) + (17 x glucides) + (8 x fibres)\n",
    "# On calcule l'énergie suivant la formule ci-dessus quand la valeur est manquante\n",
    "df[\"energy_100g\"] = df.apply(\n",
    "    lambda row: 37*row['fat_100g'] + 17*row['proteins_100g'] + 17*row['carbohydrates_100g'] + 8*row['fiber_100g']\n",
    "    if np.isnan(row[\"energy_100g\"]) \n",
    "    else row[\"energy_100g\"], \n",
    "    axis=1)\n"
   ]
  },
  {
   "cell_type": "markdown",
   "metadata": {},
   "source": [
    "On va calculer les nutriscores manquants. "
   ]
  },
  {
   "cell_type": "code",
   "execution_count": 113,
   "metadata": {},
   "outputs": [],
   "source": [
    "# Mise en place des listes contenant les limites pour chaque valeur nutritionnelle\n",
    "# Limites spécifiques aux solides\n",
    "ptsNrjS=[335, 670, 1005, 1340, 1675, 2010, 2345, 2680, 3015, 3350]\n",
    "ptsSucS=[4.5, 9, 13.5, 18, 22.5, 27, 31, 36, 40, 45]\n",
    "ptsLegS=[40,60,80,80,80]\n",
    "\n",
    "# Limites partagées entre solides et liquides\n",
    "ptsSod=[0.090, 0.180, 0.270, 0.360, 0.450, 0.540, 0.630, 0.720, 0.810, 0.900]\n",
    "ptsGra=[1, 2.1, 3.2, 4.3, 5.4, 6.5, 7.6, 8.7, 9.8, 10.9]\n",
    "ptsFib=[0.9, 1.9, 2.8, 3.7, 4.7]\n",
    "ptsPro=[1.6, 3.2, 4.8, 6.4, 8.0]\n",
    "\n",
    "# Limites spécifiques aux liquides\n",
    "ptsNrjL=[0, 30 , 60, 90, 120, 150, 180, 210, 240, 270]\n",
    "ptsSucL=[0, 1.5, 3, 4.5, 6, 7.5, 9, 10.5, 12, 13.5]\n",
    "ptsLegL=[40, 40, 60, 80, 80, 80, 80, 80, 80, 80]"
   ]
  },
  {
   "cell_type": "code",
   "execution_count": 114,
   "metadata": {},
   "outputs": [],
   "source": [
    "def calcul_points(val, pts):\n",
    "    \"\"\"Donne le nombre de points de la valeur val par rapport à son placement relatif à la liste pts\"\"\"\n",
    "    points=0\n",
    "    # On parcourt parcourt la liste des limites jusqu'à trouver une limite majorant notre valeur nutritionnelle\n",
    "    for points in range(len(pts)):\n",
    "        if val <= pts[points]:\n",
    "            return points\n",
    "    return points+1\n",
    "\n",
    "\n",
    "def nutriscore(catg, nrj, suc, gra, sel, leg, fib, pro):\n",
    "    \"\"\"Calcule le nutriscore à partir des valeurs nutritionnelles\"\"\"\n",
    "    # Compteur de points positifs\n",
    "    p=0\n",
    "    # Compteur de points négatifs \n",
    "    n=0\n",
    "    p = calcul_points(fib, ptsFib)\n",
    "    n = n + calcul_points(gra, ptsGra) + calcul_points(sel/2.54, ptsSod)\n",
    "    # Cas où le produit est un liquide\n",
    "    if \"beverage\" in str(catg).lower():\n",
    "        p = p + calcul_points(leg, ptsLegL)\n",
    "        n = n + calcul_points(nrj, ptsNrjL) + calcul_points(suc, ptsSucL)\n",
    "    # Cas où le produit est un solide\n",
    "    else:\n",
    "        p = p + calcul_points(leg, ptsLegS)\n",
    "        n = n + calcul_points(nrj, ptsNrjS) + calcul_points(suc, ptsSucS)\n",
    "    # Cas où les points des protéines ne sont pas pris en comptes\n",
    "    if n >= 11 and leg < 100 and \"fromage\" not in str(catg).lower():\n",
    "        return(n-p)\n",
    "    # Cas où les points des protéines sont pris en compte\n",
    "    p = p + calcul_points(pro, ptsPro)\n",
    "    return (n-p)"
   ]
  },
  {
   "cell_type": "code",
   "execution_count": 115,
   "metadata": {},
   "outputs": [],
   "source": [
    "# On calcule les nutriscores qui ne sont pas renseignés\n",
    "df[\"nutrition-score-fr_100g\"] = df.apply(\n",
    "    lambda row: nutriscore(row[\"pnns_groups_1\"], row[\"energy_100g\"], \n",
    "                           row[\"sugars_100g\"], row[\"saturated-fat_100g\"],\n",
    "                           row[\"salt_100g\"], row[\"fruits-vegetables-nuts_100g\"], \n",
    "                           row[\"fiber_100g\"], row[\"proteins_100g\"]) \n",
    "    if np.isnan(row[\"nutrition-score-fr_100g\"]) \n",
    "    else row[\"nutrition-score-fr_100g\"], \n",
    "    axis=1)\n"
   ]
  },
  {
   "cell_type": "markdown",
   "metadata": {},
   "source": [
    "### Suppression des valeurs nutritionnelles aberrantes\n",
    "\n",
    "On va supprimer les lignes dont les valeurs sont négatives ou au dessus de 100 grammes pour chacune des valeurs nutritionnelles utilisées. Pour commencer, on va fixer les valeurs limites. Pour les valeurs nutritionnelles, elles devront être comprises entre 0 et 100 grammes. Pour le nutriscore, il est toujours compris entre -15 et 40. Regardons la répartition de l'énergie. "
   ]
  },
  {
   "cell_type": "code",
   "execution_count": 116,
   "metadata": {},
   "outputs": [
    {
     "data": {
      "image/png": "[encoded data removed]",
      "text/plain": [
       "<Figure size 1080x288 with 1 Axes>"
      ]
     },
     "metadata": {
      "needs_background": "light"
     },
     "output_type": "display_data"
    }
   ],
   "source": [
    "ax = sns.boxplot(x=df['energy_100g'])\n",
    "fig = plt.gcf()\n",
    "# Modification de la taille\n",
    "fig.set_size_inches(15,4)\n",
    "# Ajout du titre et de la légende\n",
    "fig.suptitle(\"Boxplot de l'apport énergétique\", fontsize=25)\n",
    "plt.xlabel(\"Energie pour 100 grammes en KJ\", fontsize=20);"
   ]
  },
  {
   "cell_type": "code",
   "execution_count": 117,
   "metadata": {},
   "outputs": [
    {
     "name": "stdout",
     "output_type": "stream",
     "text": [
      "                                             product_name  energy_100g\n",
      "338218                          Oli Carbonell Verge Extra       3766.0\n",
      "110005   Kirkland Organic Virgin Coconut Oil - 2.38KG Tub       3766.0\n",
      "274497                  Pâté basque au piment d'Espelette       3849.0\n",
      "211277                           Huile de pépins de risin       3766.0\n",
      "265257                                 Huile de tournesol       3766.0\n",
      "276666               Huile D'olive Fruitée Douce - 100 ML       3766.0\n",
      "193063                                      Huile de noix       3766.0\n",
      "200498  Cuisses de canard cuites dans la graisses de c...       4113.0\n",
      "236240              Huile d'Olive vierge extra biologique       3766.0\n",
      "339094                         Huile d'olive vierge extra       3766.0\n"
     ]
    }
   ],
   "source": [
    "# Echantillon des produits dont l'énergie est supérieure à 3700 kjoules\n",
    "print(df.loc[df['energy_100g'] > 3700][[\"product_name\", \"energy_100g\"]].sample(10))"
   ]
  },
  {
   "cell_type": "markdown",
   "metadata": {},
   "source": [
    "Nous voyons qu'en fixant la limite à 3700, on élimine majoritairement des huiles qui sont à un apport énergétique cohérent. Il faudrait donc encore rehausser la limite."
   ]
  },
  {
   "cell_type": "code",
   "execution_count": 118,
   "metadata": {
    "scrolled": false
   },
   "outputs": [
    {
     "name": "stdout",
     "output_type": "stream",
     "text": [
      "                                             product_name  energy_100g\n",
      "190848                                      Brioche coupe       4084.0\n",
      "239285    L.Georgelin confiture 65% fruits oranges ameres       3841.0\n",
      "230156                   Emiette de rhon germin a l algue       4075.0\n",
      "269321                                        Whey Native       3899.0\n",
      "273690  Crème fouettée mascarpone nature sucré Casa az...       6063.0\n"
     ]
    }
   ],
   "source": [
    "# Echantillon des produits dont l'énergie est supérieure à 3800 kjoules\n",
    "print(df.loc[df['energy_100g'] > 3800][[\"product_name\", \"energy_100g\"]].sample(5))"
   ]
  },
  {
   "cell_type": "markdown",
   "metadata": {},
   "source": [
    "On va poser 3800 KJoules comme étant la limite maximale pour l'énergie, en effet, on ne retrouve plus que des valeurs aberrantes pour les produits en question. "
   ]
  },
  {
   "cell_type": "code",
   "execution_count": 119,
   "metadata": {},
   "outputs": [],
   "source": [
    "# On veut que nos valeurs nutritionnelles pour 100g soient comprises entre 0 et 100\n",
    "minValNut = 0\n",
    "maxValNut = 100\n",
    "# Notre nutriscore doit être compris entre -15 et 40 pour être valide\n",
    "minNutSco = -15\n",
    "maxNutSco = 40\n",
    "# La valeur énergétique pour 100g doit être comprises entre 0 et 8000 kJ\n",
    "minNrj = 0\n",
    "maxNrj = 3800"
   ]
  },
  {
   "cell_type": "markdown",
   "metadata": {},
   "source": [
    "On peut commencer par supprimer les valeurs aberrantes individuellement"
   ]
  },
  {
   "cell_type": "code",
   "execution_count": 120,
   "metadata": {},
   "outputs": [
    {
     "name": "stdout",
     "output_type": "stream",
     "text": [
      "(96944, 27)\n"
     ]
    }
   ],
   "source": [
    "# Ensemble des valeurs énergétiques\n",
    "new_df = df[['saturated-fat_100g', 'sugars_100g', 'fiber_100g',\n",
    "              'salt_100g', 'fat_100g',\n",
    "              'carbohydrates_100g', 'proteins_100g',\n",
    "              'fruits-vegetables-nuts_100g', 'vitamin-d_100g', 'vitamin-c_100g',\n",
    "              'calcium_100g', 'iron_100g']]\n",
    "\n",
    "# Mask regrouapnt l'ensemble des conditions \n",
    "mask = new_df.le(100).any(axis=1) & new_df.ge(0).any(axis=1) & df['energy_100g'].ge(0) & df['energy_100g'].le(3800) & df['nutrition-score-fr_100g'].ge(-15) & df['nutrition-score-fr_100g'].le(40)  \n",
    "df = df[mask]\n",
    "print(df.shape)"
   ]
  },
  {
   "cell_type": "markdown",
   "metadata": {},
   "source": [
    "On va maintenant vérifier que la somme des graisses, glucides, protéines, fibres et sel, qui sont des composants indépendants, est bien inférieure à 100 grammes pour 100 grammes de produit. On ne met pas de valeur minimale, ce serait redondant avec les limites individuelles fixées précédemment. L'eau, par exemple, aura une somme proche de valeurs nutritionnelles proches de 0."
   ]
  },
  {
   "cell_type": "code",
   "execution_count": 121,
   "metadata": {},
   "outputs": [
    {
     "data": {
      "text/plain": [
       "(96035, 27)"
      ]
     },
     "execution_count": 121,
     "metadata": {},
     "output_type": "execute_result"
    }
   ],
   "source": [
    "df = df[df[['fat_100g', 'carbohydrates_100g', 'proteins_100g', 'fiber_100g', 'salt_100g']].sum(axis=1) <= 100]\n",
    "df.shape"
   ]
  },
  {
   "cell_type": "markdown",
   "metadata": {},
   "source": [
    "### Calcul du nutrigrade\n",
    "\n",
    "On va maintenant déduire les nutrigrades à partir des nutriscores en modifiant ceux déjà présents qui présentaient parfois des incohérences entre le nutriscore et le nutrigrade. "
   ]
  },
  {
   "cell_type": "code",
   "execution_count": 122,
   "metadata": {},
   "outputs": [],
   "source": [
    "# Liste des valeurs de nutrigrade\n",
    "grad=['a', 'b', 'c', 'd', 'e']\n",
    "# Valeurs limites de nutriscore pour les solides\n",
    "scoS=[-1, 2, 10, 19]\n",
    "# Valeurs limites de nutriscore pour les liquides\n",
    "scoL=[1, 5, 9]"
   ]
  },
  {
   "cell_type": "code",
   "execution_count": 123,
   "metadata": {},
   "outputs": [],
   "source": [
    "def nutrigrade(catg, nutriscore):\n",
    "    \"\"\"Calcule le nutrigrade à partir du nutriscore\"\"\"\n",
    "    # Les critères ne sont pas les mêmes pour les liquides et les solides\n",
    "    if \"beverage\" in str(catg).lower():\n",
    "        # L'eau a toujours un nutrigrade de a\n",
    "        if \"eau\" in str(catg).lower():\n",
    "            return grad[0]\n",
    "        return grad[calcul_points(nutriscore, scoL) + 1]\n",
    "    return grad[calcul_points(nutriscore, scoS)]"
   ]
  },
  {
   "cell_type": "code",
   "execution_count": 124,
   "metadata": {},
   "outputs": [],
   "source": [
    "# On calcule le nutrigrade pour chaque valeur manquante\n",
    "df[\"nutrition_grade_fr\"] = df.apply(\n",
    "    lambda row: nutrigrade(row[\"pnns_groups_1\"], row[\"nutrition-score-fr_100g\"]), \n",
    "    axis=1)"
   ]
  },
  {
   "cell_type": "markdown",
   "metadata": {},
   "source": [
    "## Suppression des colonnes utilisées uniquement pour le nettoyage\n",
    "\n",
    "Maintenant que le nettoyage est fini, on peut supprimer les colonnes pnns_groups_1 et generic_name qui étaient présentes uniquement pour remplir les valeurs manquantes d'autres colonnes. Elles ne seront plus utiles pour l'application. "
   ]
  },
  {
   "cell_type": "code",
   "execution_count": 125,
   "metadata": {},
   "outputs": [
    {
     "data": {
      "text/plain": [
       "(96035, 25)"
      ]
     },
     "execution_count": 125,
     "metadata": {},
     "output_type": "execute_result"
    }
   ],
   "source": [
    "# On garde uniquement les colonnes utiles pour l'application\n",
    "df = df[['product_name', 'brands', 'countries_en', 'pnns_groups_1',\n",
    "         'ingredients_text', 'allergens', 'traces', 'additives_en',\n",
    "         'ingredients_from_palm_oil_n','nutrition_grade_fr', 'energy_100g',\n",
    "         'saturated-fat_100g', 'sugars_100g', 'fiber_100g', 'salt_100g',\n",
    "         'fat_100g', 'carbohydrates_100g',\n",
    "         'proteins_100g', 'nutrition-score-fr_100g', 'fruits-vegetables-nuts_100g',\n",
    "         'vitamin-d_100g', 'vitamin-c_100g', 'calcium_100g', 'iron_100g', 'image_url']]\n",
    "\n",
    "df.shape"
   ]
  },
  {
   "cell_type": "markdown",
   "metadata": {},
   "source": [
    "## Sauvegarde des données nettoyées\n",
    "\n",
    "Maintenant que les données sont nettoyées, on peut les sauvegarder au format csv."
   ]
  },
  {
   "cell_type": "code",
   "execution_count": 126,
   "metadata": {},
   "outputs": [],
   "source": [
    "df.to_csv(\"/home/apprenant/PycharmProjects/open-food-facts/data/openfoodfactsclean.csv\")"
   ]
  }
 ],
 "metadata": {
  "kernelspec": {
   "display_name": "Python 3",
   "language": "python",
   "name": "python3"
  },
  "language_info": {
   "codemirror_mode": {
    "name": "ipython",
    "version": 3
   },
   "file_extension": ".py",
   "mimetype": "text/x-python",
   "name": "python",
   "nbconvert_exporter": "python",
   "pygments_lexer": "ipython3",
   "version": "3.8.5"
  }
 },
 "nbformat": 4,
 "nbformat_minor": 4
}
